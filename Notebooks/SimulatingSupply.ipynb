{
 "cells": [
  {
   "cell_type": "markdown",
   "metadata": {},
   "source": [
    "# __Simulating Supply Tutorial__\n",
    "\n",
    "<br>\n",
    "\n",
    "Finance 5330: Advanced Derivative Markets <br>\n",
    "Tyler J. Brough <br>\n",
    "Last Updated: March 19, 2019 <br>\n",
    "<br>"
   ]
  },
  {
   "cell_type": "code",
   "execution_count": 37,
   "metadata": {},
   "outputs": [],
   "source": [
    "import numpy as np\n",
    "import pandas as pd\n",
    "import matplotlib.pyplot as plt"
   ]
  },
  {
   "cell_type": "markdown",
   "metadata": {},
   "source": [
    "## Simulating the Spot Prices for Heating Oil and Gasoline\n",
    "\n",
    "To simulate a few values from the spot price equation, which is stated as follows:\n",
    "\n",
    "<br>\n",
    "<br>\n",
    "\n",
    "$$\n",
    "\\ln{ \\left( \\frac{S_{i,t}}{S_{i,t-1}} \\right)} = \\alpha_{i} (\\beta_{i} - S_{i,t-1}) + \\varepsilon_{i,t}\n",
    "$$\n",
    "\n",
    "<br>\n",
    "<br>\n",
    "\n",
    "Where $\\varepsilon_{1}, \\varepsilon_{2} \\sim BVN(0,\\sigma_{1}^{2}, 0, \\sigma_{2}^{2}, \\rho)$. For convenience we can rewrite this as:\n",
    "\n",
    "<br>\n",
    "<br>\n",
    "\n",
    "$$\n",
    "\\ln{(S_{i,t})} = \\ln{(S_{i,t-1})} + \\alpha_{i} (\\beta_{i} - S_{i,t-1}) + \\varepsilon_{i,t}\n",
    "$$\n",
    "\n",
    "<br>\n",
    "<br>"
   ]
  },
  {
   "cell_type": "code",
   "execution_count": 38,
   "metadata": {},
   "outputs": [],
   "source": [
    "a1 = 0.342\n",
    "b1 = 0.539\n",
    "s1 = 0.11\n",
    "S1 = 0.69\n",
    "numReps = 45\n",
    "\n",
    "lnSpot1 = np.zeros(numReps)\n",
    "lnSpot1[0] = np.log(S1)\n",
    "\n",
    "z1 = np.random.normal(size=numReps)\n",
    "\n",
    "for t in range(1, numReps):\n",
    "    lnSpot1[t] = lnSpot1[t-1] + a1 * (b1 - np.exp(lnSpot1[t-1])) + z1[t] * s1"
   ]
  },
  {
   "cell_type": "code",
   "execution_count": 39,
   "metadata": {},
   "outputs": [
    {
     "data": {
      "text/plain": [
       "[<matplotlib.lines.Line2D at 0x7f6a1a4d2080>]"
      ]
     },
     "execution_count": 39,
     "metadata": {},
     "output_type": "execute_result"
    },
    {
     "data": {
      "image/png": "[encoded data removed]",
      "text/plain": [
       "<Figure size 432x288 with 1 Axes>"
      ]
     },
     "metadata": {
      "needs_background": "light"
     },
     "output_type": "display_data"
    }
   ],
   "source": [
    "plt.plot(lnSpot1)"
   ]
  },
  {
   "cell_type": "markdown",
   "metadata": {},
   "source": [
    "## Simulating Correlated Normals\n",
    "\n",
    "Since the disturbance terms are distributed jointly Normal, we need a way to draw from the BVN distribution. It turns out this is pretty easy. \n",
    "\n",
    "<br>\n",
    "\n",
    "Here are the necessary steps to draw two correlated normal random variables. \n",
    "\n",
    "1. Draw $z_{1}$ independently from $N(0,\\sigma_{z_{1}})$\n",
    "2. Next draw $z_{tmp}$ from a standard normal $N(0,1)$\n",
    "3. Create $z_{2}$ that is correlated with $z_{1}$ according to the correlation coeficient $\\rho$\n",
    "\n",
    "<br>\n",
    "\n",
    "We can use the following equation to accomplish the third step:\n",
    "\n",
    "$$\n",
    "z_{2} = z_{1} * \\rho + \\sqrt{(1 - \\rho^{2})} * z_{tmp} * \\sigma_{2}\n",
    "$$\n",
    "\n",
    "<br>\n",
    "\n",
    "We can do this in Python as follows:"
   ]
  },
  {
   "cell_type": "code",
   "execution_count": 40,
   "metadata": {},
   "outputs": [],
   "source": [
    "s1 = 0.11\n",
    "s2 = 0.116\n",
    "rho = 0.705\n",
    "numReps = 10000\n",
    "\n",
    "z1 = np.random.normal(size=numReps) * s1\n",
    "ztmp = np.random.normal(size=numReps)\n",
    "z2 = z1 * rho + np.sqrt((1 - rho**2)) * ztmp * s2"
   ]
  },
  {
   "cell_type": "code",
   "execution_count": 41,
   "metadata": {},
   "outputs": [
    {
     "data": {
      "text/plain": [
       "array([[1.        , 0.68271331],\n",
       "       [0.68271331, 1.        ]])"
      ]
     },
     "execution_count": 41,
     "metadata": {},
     "output_type": "execute_result"
    }
   ],
   "source": [
    "np.corrcoef(z1,z2)"
   ]
  },
  {
   "cell_type": "markdown",
   "metadata": {},
   "source": [
    "<br>\n",
    "\n",
    "I prefer to create a function to handle it: \n",
    "\n",
    "<br>"
   ]
  },
  {
   "cell_type": "code",
   "execution_count": 42,
   "metadata": {},
   "outputs": [],
   "source": [
    "def drawCorrelatedNormals(mn1 = 0.0, sd1 = 1.0, mn2 = 0.0, sd2 = 1.0, rho = 0.5, numReps = 100):\n",
    "    z1 = np.random.normal(size=numReps, loc=mn1, scale=sd1)\n",
    "    z2 = np.random.normal(size=numReps, loc=mn2, scale=sd2)\n",
    "    z2 = rho * z1 + np.sqrt((1.0 - rho**2.0)) * z2\n",
    "    \n",
    "    return (z1,z2)"
   ]
  },
  {
   "cell_type": "code",
   "execution_count": 43,
   "metadata": {},
   "outputs": [
    {
     "data": {
      "text/plain": [
       "array([[1.        , 0.77321579],\n",
       "       [0.77321579, 1.        ]])"
      ]
     },
     "execution_count": 43,
     "metadata": {},
     "output_type": "execute_result"
    }
   ],
   "source": [
    "x1, x2 = drawCorrelatedNormals(sd1=0.11, sd2=0.116, rho=0.705, numReps=45)\n",
    "np.corrcoef(x1, x2)"
   ]
  },
  {
   "cell_type": "markdown",
   "metadata": {},
   "source": [
    "<br>\n",
    "\n",
    "## Simulating Sport Prices for Oil and Gasoline Jointly\n",
    "\n",
    "With this in place, we can now simulate spot prices jointly as follows:\n",
    "\n",
    "<br>"
   ]
  },
  {
   "cell_type": "code",
   "execution_count": 47,
   "metadata": {},
   "outputs": [],
   "source": [
    "a1 = 0.342\n",
    "b1 = 0.539\n",
    "s1 = 0.11\n",
    "S1 = 0.69\n",
    "a1 = 0.342\n",
    "b1 = 0.539\n",
    "s1 = 0.11\n",
    "S1 = 0.69\n",
    "a2 = 0.391\n",
    "b2 = 0.560\n",
    "s2 = 0.116\n",
    "S2 = 0.80\n",
    "numReps = 45\n",
    "\n",
    "lnSpot1 = np.zeros(numReps)\n",
    "lnSpot2 = np.zeros(numReps)\n",
    "\n",
    "lnSpot1[0] = np.log(S1)\n",
    "lnSpot2[0] = np.log(S2)\n",
    "\n",
    "\n",
    "z1, z2 = drawCorrelatedNormals(sd1=s1, sd2=s2, rho=rho, numReps=numReps)\n",
    "\n",
    "for t in range(1, numReps):\n",
    "    lnSpot1[t] = lnSpot1[t-1] + a1 * (b1 - np.exp(lnSpot1[t-1])) + z1[t]\n",
    "    lnSpot2[t] = lnSpot2[t-1] + a2 * (b2 - np.exp(lnSpot2[t-1])) + z2[t] \n",
    "\n",
    "ts = pd.DataFrame({'Z1' : lnSpot1, 'Z2' : lnSpot2})"
   ]
  },
  {
   "cell_type": "code",
   "execution_count": 48,
   "metadata": {},
   "outputs": [
    {
     "data": {
      "text/plain": [
       "<matplotlib.axes._subplots.AxesSubplot at 0x7f6a1a3d4e80>"
      ]
     },
     "execution_count": 48,
     "metadata": {},
     "output_type": "execute_result"
    },
    {
     "data": {
      "image/png": "[encoded data removed]",
      "text/plain": [
       "<Figure size 432x288 with 1 Axes>"
      ]
     },
     "metadata": {
      "needs_background": "light"
     },
     "output_type": "display_data"
    }
   ],
   "source": [
    "ts.plot(grid=True)"
   ]
  },
  {
   "cell_type": "code",
   "execution_count": 49,
   "metadata": {},
   "outputs": [
    {
     "data": {
      "text/html": [
       "<div>\n",
       "<style scoped>\n",
       "    .dataframe tbody tr th:only-of-type {\n",
       "        vertical-align: middle;\n",
       "    }\n",
       "\n",
       "    .dataframe tbody tr th {\n",
       "        vertical-align: top;\n",
       "    }\n",
       "\n",
       "    .dataframe thead th {\n",
       "        text-align: right;\n",
       "    }\n",
       "</style>\n",
       "<table border=\"1\" class=\"dataframe\">\n",
       "  <thead>\n",
       "    <tr style=\"text-align: right;\">\n",
       "      <th></th>\n",
       "      <th>Z1</th>\n",
       "      <th>Z2</th>\n",
       "    </tr>\n",
       "  </thead>\n",
       "  <tbody>\n",
       "    <tr>\n",
       "      <th>0</th>\n",
       "      <td>-0.371064</td>\n",
       "      <td>-0.223144</td>\n",
       "    </tr>\n",
       "    <tr>\n",
       "      <th>1</th>\n",
       "      <td>-0.391465</td>\n",
       "      <td>-0.245855</td>\n",
       "    </tr>\n",
       "    <tr>\n",
       "      <th>2</th>\n",
       "      <td>-0.207017</td>\n",
       "      <td>-0.190089</td>\n",
       "    </tr>\n",
       "    <tr>\n",
       "      <th>3</th>\n",
       "      <td>-0.184068</td>\n",
       "      <td>-0.339171</td>\n",
       "    </tr>\n",
       "    <tr>\n",
       "      <th>4</th>\n",
       "      <td>-0.301766</td>\n",
       "      <td>-0.331299</td>\n",
       "    </tr>\n",
       "  </tbody>\n",
       "</table>\n",
       "</div>"
      ],
      "text/plain": [
       "         Z1        Z2\n",
       "0 -0.371064 -0.223144\n",
       "1 -0.391465 -0.245855\n",
       "2 -0.207017 -0.190089\n",
       "3 -0.184068 -0.339171\n",
       "4 -0.301766 -0.331299"
      ]
     },
     "execution_count": 49,
     "metadata": {},
     "output_type": "execute_result"
    }
   ],
   "source": [
    "ts.head()"
   ]
  },
  {
   "cell_type": "code",
   "execution_count": 50,
   "metadata": {},
   "outputs": [
    {
     "data": {
      "text/html": [
       "<div>\n",
       "<style scoped>\n",
       "    .dataframe tbody tr th:only-of-type {\n",
       "        vertical-align: middle;\n",
       "    }\n",
       "\n",
       "    .dataframe tbody tr th {\n",
       "        vertical-align: top;\n",
       "    }\n",
       "\n",
       "    .dataframe thead th {\n",
       "        text-align: right;\n",
       "    }\n",
       "</style>\n",
       "<table border=\"1\" class=\"dataframe\">\n",
       "  <thead>\n",
       "    <tr style=\"text-align: right;\">\n",
       "      <th></th>\n",
       "      <th>Z1</th>\n",
       "      <th>Z2</th>\n",
       "    </tr>\n",
       "  </thead>\n",
       "  <tbody>\n",
       "    <tr>\n",
       "      <th>40</th>\n",
       "      <td>-0.548103</td>\n",
       "      <td>-0.460639</td>\n",
       "    </tr>\n",
       "    <tr>\n",
       "      <th>41</th>\n",
       "      <td>-0.710941</td>\n",
       "      <td>-0.644121</td>\n",
       "    </tr>\n",
       "    <tr>\n",
       "      <th>42</th>\n",
       "      <td>-0.747535</td>\n",
       "      <td>-0.698347</td>\n",
       "    </tr>\n",
       "    <tr>\n",
       "      <th>43</th>\n",
       "      <td>-0.688057</td>\n",
       "      <td>-0.753505</td>\n",
       "    </tr>\n",
       "    <tr>\n",
       "      <th>44</th>\n",
       "      <td>-0.607892</td>\n",
       "      <td>-0.483634</td>\n",
       "    </tr>\n",
       "  </tbody>\n",
       "</table>\n",
       "</div>"
      ],
      "text/plain": [
       "          Z1        Z2\n",
       "40 -0.548103 -0.460639\n",
       "41 -0.710941 -0.644121\n",
       "42 -0.747535 -0.698347\n",
       "43 -0.688057 -0.753505\n",
       "44 -0.607892 -0.483634"
      ]
     },
     "execution_count": 50,
     "metadata": {},
     "output_type": "execute_result"
    }
   ],
   "source": [
    "ts.tail()"
   ]
  },
  {
   "cell_type": "code",
   "execution_count": null,
   "metadata": {},
   "outputs": [],
   "source": []
  }
 ],
 "metadata": {
  "kernelspec": {
   "display_name": "Python 3",
   "language": "python",
   "name": "python3"
  },
  "language_info": {
   "codemirror_mode": {
    "name": "ipython",
    "version": 3
   },
   "file_extension": ".py",
   "mimetype": "text/x-python",
   "name": "python",
   "nbconvert_exporter": "python",
   "pygments_lexer": "ipython3",
   "version": "3.7.1"
  }
 },
 "nbformat": 4,
 "nbformat_minor": 2
}
