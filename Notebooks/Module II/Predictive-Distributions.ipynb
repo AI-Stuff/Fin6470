{
 "cells": [
  {
   "cell_type": "markdown",
   "metadata": {},
   "source": [
    "# __A Quick Overview of Predictive Distributions__\n",
    "\n",
    "<br>\n",
    "\n",
    "Finance 5330: Advanced Derivative Markets <br>\n",
    "Tyler J. Brough <br>\n",
    "Last Updated: March 28, 2019 <br>\n",
    "<br>"
   ]
  },
  {
   "cell_type": "markdown",
   "metadata": {},
   "source": [
    "Typically, the concept of a __predictive distribution__ is associated with Bayesian statistical methods. In a Bayesian model the answer to any problem of statistical\n",
    "inference comes in the form of an entire distribution of outcomes rather than simply a _point estimate_ (a single numerical value). This is very nature for Bayesians \n",
    "because the only \"estimator\" in the Bayesian world is Bayes' Rule:\n",
    "\n",
    "<br>\n",
    "\n",
    "$$\n",
    "p(\\theta | x) \\propto p(x | \\theta) p(\\theta)\n",
    "$$\n",
    "\n",
    "<br>\n",
    "\n",
    "$p(\\theta | x)$ is called the _posterior distribution_ and is obtained by taking the product of the _likelihood function_ (i.e. $p(x | \\theta)$) and the _prior distribution_ (i.e. $p(\\theta)$).\n",
    "\n",
    "<br>\n",
    "\n",
    "$p(\\theta | x)$ is a probability density function (or many thousands of draws from one as a proxy). It represents infinitely many possible outcomes and their associated probability density. But the \n",
    "random variable(s) being modeled here is $\\theta$ (possibly a vector). \n",
    "\n",
    "<br>\n",
    "\n",
    "In finance, we are not primarily interested in any particular $\\theta$'s but rather with future, but _uncertain_ $y$ values:\n",
    "\n",
    "* What will the value of the investment portfolio be at retirement? \n",
    "\n",
    "* What will the value of the spot price be at delivery? \n",
    "\n",
    "* What will the value of the underlying be at maturity of the option contract? I.e. what will be the payoff of the option at expiry? \n",
    "\n",
    "* What will the settlement price of the futures contract? \n",
    "\n",
    "<br>\n",
    "\n",
    "And on and on. In finance we care about forward-looking outcomes of random variables. \n",
    "\n",
    "<br>\n",
    "\n",
    "Bayesian methods aid this objective by providing a _predictive distribution_ in the following way: \n",
    "\n",
    "<br>\n",
    "\n",
    "$$\n",
    "p(x^{\\ast} | D) \\propto \\int\\limits_{\\Theta} p(x | \\theta) p(\\theta | D) d \\theta\n",
    "$$\n",
    "\n",
    "<br>\n",
    "\n",
    "where $x^{\\ast}$ represents future values of $x$ as of yet unobserved, but anticipated and $D = \\{x_{1}, x_{2}, \\ldots, x_{N}\\}$ (i.e. the observed data).\n",
    "\n",
    "<br>\n",
    "\n",
    "This is typically done by Monte Carlo simulation in any model beyond moderate complexity. \n",
    "\n",
    "<br>\n",
    "\n",
    "This approach can be approximated for a _diffuse_ prior distribution $p(\\theta)$ with classical statistical tools and Monte Carlo simulation. This is what Bollen and Whaley do with\n",
    "their model of synthetic energy supply estimated via maximum likelihood and implemented with Monte Carlo simulation.\n",
    "\n",
    "<br>"
   ]
  },
  {
   "cell_type": "markdown",
   "metadata": {},
   "source": [
    "<br>\n",
    "<br>\n",
    "\n",
    "Consider the _simulating supply_ log-spot price model from Bollen & Whaley:\n",
    "\n",
    "<br>\n",
    "<br>\n",
    "\n",
    "$$\n",
    "\\ln{ \\left( \\frac{S_{i,t}}{S_{i,t-1}} \\right)} = \\alpha_{i} (\\beta_{i} - S_{i,t-1}) + \\varepsilon_{i,t}\n",
    "$$\n",
    "\n",
    "<br>\n",
    "<br>\n",
    "\n",
    "Where $\\varepsilon_{1}, \\varepsilon_{2} \\sim BVN(0,\\sigma_{1}^{2}, 0, \\sigma_{2}^{2}, \\rho)$. For convenience we can rewrite this as:\n",
    "\n",
    "<br>\n",
    "<br>\n",
    "\n",
    "$$\n",
    "\\ln{(S_{i,t})} = \\ln{(S_{i,t-1})} + \\alpha_{i} (\\beta_{i} - S_{i,t-1}) + \\varepsilon_{i,t}\n",
    "$$\n",
    "\n",
    "<br>\n",
    "<br>\n",
    "\n",
    "Let's implement this in a function that can return many thousand simulated paths as follows:\n",
    "\n",
    "<br>"
   ]
  },
  {
   "cell_type": "code",
   "execution_count": 5,
   "metadata": {},
   "outputs": [],
   "source": [
    "import numpy as np\n",
    "import pandas as pd\n",
    "import matplotlib.pyplot as plt\n",
    "plt.rcParams['figure.figsize'] = [20, 10]\n",
    "\n",
    "from numpy import size, log, exp, pi, sum, diff, array, zeros, diag, mat, asarray, sqrt, copy\n",
    "from numpy.linalg import inv"
   ]
  },
  {
   "cell_type": "code",
   "execution_count": 15,
   "metadata": {},
   "outputs": [],
   "source": [
    "for t in range(1, numReps):\n",
    "    lnSpot1[t] = lnSpot1[t-1] + a1 * (b1 - np.exp(lnSpot1[t-1])) + z1[t] * s1\n",
    "\n",
    "def simulated_supply(params, numObs=252, numReps=10000): \n",
    "    a1 = params[0]\n",
    "    b1 = params[1]\n",
    "    s1 = params[2]\n",
    "    S1 = params[3]\n",
    "    \n",
    "    paths = np.empty((numReps, numObs))\n",
    "    \n",
    "    for i in range(numReps):\n",
    "        paths[i,0] = np.log(S1)\n",
    "        z = np.random.normal(size=numObs)\n",
    "        \n",
    "        for j in range(1, numObs):\n",
    "            paths[i,j] = paths[i,j-1] + a1 * (b1 - exp(paths[i,j-1])) + z[j] * s1\n",
    "            \n",
    "    return paths"
   ]
  },
  {
   "cell_type": "code",
   "execution_count": 16,
   "metadata": {},
   "outputs": [],
   "source": [
    "a1 = 0.342\n",
    "b1 = 0.539\n",
    "s1 = 0.11\n",
    "S1 = 0.69\n",
    "numObs = 45\n",
    "numReps = 10\n",
    "params = array([a1, b1, s1, S1])\n",
    "\n",
    "paths = simulated_supply(params, numObs, numReps)"
   ]
  },
  {
   "cell_type": "code",
   "execution_count": 18,
   "metadata": {},
   "outputs": [
    {
     "data": {
      "text/plain": [
       "array([-0.37106368, -0.38702467, -0.57007364, -0.64537157, -0.79286647,\n",
       "       -0.77072782, -0.81293011, -0.68848655, -0.61925763, -0.53119269,\n",
       "       -0.57132225, -0.61026663, -0.7137232 , -0.84535923, -0.91699623,\n",
       "       -0.7590069 , -0.63712129, -0.54946317, -0.74605805, -0.76453484,\n",
       "       -0.74925698, -0.70634229, -0.63367767, -0.70147895, -0.59682345,\n",
       "       -0.68188774, -0.66559906, -0.77726437, -0.75477056, -0.7819951 ,\n",
       "       -0.75650172, -0.81220813, -0.93436152, -0.69859587, -0.75280916,\n",
       "       -0.80384961, -0.91766623, -0.93780553, -0.78898087, -0.82275921,\n",
       "       -0.88518852, -0.83161248, -0.81080746, -0.92583066, -0.97999525])"
      ]
     },
     "execution_count": 18,
     "metadata": {},
     "output_type": "execute_result"
    }
   ],
   "source": [
    "## let's look at the last column (i.e. simulated terminal prices)\n",
    "paths[0]"
   ]
  },
  {
   "cell_type": "code",
   "execution_count": 22,
   "metadata": {},
   "outputs": [
    {
     "data": {
      "text/plain": [
       "array([0.37531288, 0.8938026 , 0.5186501 , 0.52214999, 0.6216882 ,\n",
       "       0.28404176, 0.55819559, 0.66334262, 0.54251496, 0.44165698])"
      ]
     },
     "execution_count": 22,
     "metadata": {},
     "output_type": "execute_result"
    }
   ],
   "source": [
    "## let's look at dollar prices\n",
    "np.exp(paths[:,-1])"
   ]
  },
  {
   "cell_type": "code",
   "execution_count": 23,
   "metadata": {},
   "outputs": [],
   "source": [
    "## now let's do many thousand reps\n",
    "paths = simulated_supply(params)"
   ]
  },
  {
   "cell_type": "code",
   "execution_count": 24,
   "metadata": {},
   "outputs": [
    {
     "data": {
      "text/plain": [
       "array([[0.69      , 0.68008915, 0.52966687, ..., 0.60059823, 0.59828605,\n",
       "        0.66890279],\n",
       "       [0.69      , 0.69113551, 0.65872115, ..., 0.5371584 , 0.51921316,\n",
       "        0.42343794],\n",
       "       [0.69      , 0.6338564 , 0.56767476, ..., 0.67814453, 0.74342153,\n",
       "        0.6550691 ],\n",
       "       ...,\n",
       "       [0.69      , 0.75169924, 0.69975864, ..., 0.56797424, 0.56813587,\n",
       "        0.59427517],\n",
       "       [0.69      , 0.57757631, 0.58085572, ..., 0.45715531, 0.51039064,\n",
       "        0.53629867],\n",
       "       [0.69      , 0.62820947, 0.64639027, ..., 0.50643128, 0.596341  ,\n",
       "        0.60650423]])"
      ]
     },
     "execution_count": 24,
     "metadata": {},
     "output_type": "execute_result"
    }
   ],
   "source": [
    "## let's look at the first 10 rows of the last column\n",
    "np.exp(paths[:,:10])"
   ]
  },
  {
   "cell_type": "code",
   "execution_count": 25,
   "metadata": {},
   "outputs": [
    {
     "data": {
      "image/png": "[encoded data removed]",
      "text/plain": [
       "<Figure size 1440x720 with 1 Axes>"
      ]
     },
     "metadata": {
      "needs_background": "light"
     },
     "output_type": "display_data"
    }
   ],
   "source": [
    "## let's plot a histogram\n",
    "plt.hist(np.exp(paths[:,-1]), bins=100);"
   ]
  },
  {
   "cell_type": "code",
   "execution_count": null,
   "metadata": {},
   "outputs": [],
   "source": []
  }
 ],
 "metadata": {
  "kernelspec": {
   "display_name": "Python 3",
   "language": "python",
   "name": "python3"
  },
  "language_info": {
   "codemirror_mode": {
    "name": "ipython",
    "version": 3
   },
   "file_extension": ".py",
   "mimetype": "text/x-python",
   "name": "python",
   "nbconvert_exporter": "python",
   "pygments_lexer": "ipython3",
   "version": "3.7.1"
  }
 },
 "nbformat": 4,
 "nbformat_minor": 2
}
