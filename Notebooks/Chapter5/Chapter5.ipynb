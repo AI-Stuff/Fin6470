{
 "cells": [
  {
   "cell_type": "markdown",
   "metadata": {},
   "source": [
    "# __Chapter 5: Financial Forwards and Futures (Version 2.0)__\n",
    "\n",
    "<br>\n",
    "\n",
    "Finance 6470: Derivatives Markets <br>\n",
    "Tyler J. Brough <br>\n",
    "Last Update: February 6, 2019 <br>\n",
    "<br>"
   ]
  },
  {
   "cell_type": "markdown",
   "metadata": {},
   "source": [
    "## Section 5.1: Alternative Ways to Buy a Stock\n",
    "\n",
    "<br>\n",
    "\n",
    "The purchase of XYZ stock has three components: \n",
    "\n",
    "1. Fixing the price\n",
    "\n",
    "2. The buyer making payment to the seller\n",
    "\n",
    "3. The seller transferring share ownership to the buyer\n",
    "\n",
    "<br>\n",
    "\n",
    "If we allow for the possibility that payment and physical receipt can occurr at different times (e.g. $t=0$ and $t=T$) then there are four possibilities for how to purchase XYZ shares: \n",
    "\n",
    "* __(1)__  __Outright Purchase:__ \n",
    "        - the typical way to buy stock (payment and physical receipt at $t=0$)"
   ]
  },
  {
   "cell_type": "markdown",
   "metadata": {},
   "source": [
    "* __(2)__ __Fully Leveraged Purchase:__ \n",
    "        - Purchase by borrowing the entire purchase price\n",
    "        - At $t=0$ get $S_{0}$\n",
    "        - At $t=T$ pay $S_{0}e^{rT}$\n",
    "\n",
    "\n",
    "\n",
    "* __(3)__ __Prepaid Forward Contract:__ \n",
    "        - Pay for stock today at $t=0$ at price $S_{0}$\n",
    "        - Receive stock at $t=T$ worth $S_{T}$\n",
    "        \n",
    "        \n",
    "* __(4)__ __Forward Contract:__ \n",
    "        - Both payment and physical receipt at $t=T$\n",
    "        \n",
    "        \n",
    "<br>"
   ]
  },
  {
   "cell_type": "markdown",
   "metadata": {},
   "source": [
    "## Section 5.2 Prepaid Forward Contracts on Stock\n",
    "\n",
    "<br>\n",
    "\n",
    "* Prepaid forward entails paying today to receive something (stocks, bonds, foreign currencies, etc) in the future\n",
    "* Allows the owner to sell an asset while retaining physical possession for a period of time (until maturity of the contract)\n",
    "\n",
    "<br>\n",
    "\n",
    "Let's derive the prepaid forward price by three different methods: \n",
    "\n",
    "1. Pricing by analogy\n",
    "2. Pricing by present value\n",
    "3. Pricing by arbitrage\n",
    "\n",
    "<br>"
   ]
  },
  {
   "cell_type": "markdown",
   "metadata": {},
   "source": [
    "__Pricing by Analogy__\n",
    "\n",
    "<br>\n",
    "\n",
    "* Suppose you buy a prepaid forward contract\n",
    "        - receive no dividends\n",
    "        - have no voting/control rights\n",
    "        \n",
    "        \n",
    "* In the absense of dividends, whether you receive physical possession today or at time $T$ is irrelevant\n",
    "        - At $t=T$ you will own the stock\n",
    "        - Will be as if you had held it the whole time\n",
    "        - Assume: no counterparty risk (i.e. you will receive stock at $t=T$ for sure)\n",
    "        \n",
    "        \n",
    "* This means that: \n",
    "\n",
    "$$\n",
    "F_{0,T}^{P} = S_{0}\n",
    "$$\n",
    "\n",
    "<br>\n",
    "\n",
    "* Since they're in every way equivalent\n",
    "\n",
    "<br>\n"
   ]
  },
  {
   "cell_type": "markdown",
   "metadata": {},
   "source": [
    "__Pricing the Prepaid Forward by Discounted Present Value__\n",
    "\n",
    "<br>\n",
    "\n",
    "* We can also use present value arguments:\n",
    "        - Calculate the expected value of the stock at time $T$ and then discount that value at an appropriate rate of return\n",
    "        - At $t=0$ $S_{T}$ is uncertain\n",
    "        - We must use an appropriate risky discount rate\n",
    "        - Denote by $E_{0}(S_{T})$ the $t=0$ expected value of $S_{T}$\n",
    "        - Let $\\alpha$ be the appropriate risky discount rate\n",
    "        - $F_{0,T}^{P} = E_{0}(S_{T}) e^{-rT}$ "
   ]
  },
  {
   "cell_type": "markdown",
   "metadata": {},
   "source": []
  },
  {
   "cell_type": "markdown",
   "metadata": {},
   "source": [
    "   "
   ]
  },
  {
   "cell_type": "markdown",
   "metadata": {},
   "source": []
  },
  {
   "cell_type": "markdown",
   "metadata": {},
   "source": []
  }
 ],
 "metadata": {
  "kernelspec": {
   "display_name": "Python 3",
   "language": "python",
   "name": "python3"
  },
  "language_info": {
   "codemirror_mode": {
    "name": "ipython",
    "version": 3
   },
   "file_extension": ".py",
   "mimetype": "text/x-python",
   "name": "python",
   "nbconvert_exporter": "python",
   "pygments_lexer": "ipython3",
   "version": "3.7.1"
  }
 },
 "nbformat": 4,
 "nbformat_minor": 2
}
