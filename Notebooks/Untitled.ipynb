{
 "cells": [
  {
   "cell_type": "code",
   "execution_count": 1,
   "metadata": {},
   "outputs": [
    {
     "data": {
      "text/plain": [
       "1000000-element Array{Float64,1}:\n",
       "  2.219938983499839  \n",
       "  1.6676213881520638 \n",
       "  0.3161169819267273 \n",
       " -0.18599228889984196\n",
       "  1.1628469580153833 \n",
       "  0.3929674916181215 \n",
       " -2.447393856367114  \n",
       " -1.6001258978401918 \n",
       " -0.49597867928400585\n",
       "  0.4542414409290235 \n",
       "  2.5424302326071073 \n",
       " -0.253951401414169  \n",
       "  0.4596629295647158 \n",
       "  ⋮                  \n",
       "  1.1075972159736542 \n",
       " -0.08102833680155427\n",
       "  0.30685326463851265\n",
       "  0.35975697625222314\n",
       "  0.6735111364326895 \n",
       "  1.3880295840523587 \n",
       "  1.0150041224073334 \n",
       "  1.1340554375772687 \n",
       "  0.52288970796534   \n",
       "  0.3377216605605123 \n",
       " -0.2644310712162693 \n",
       "  0.5356495478775523 "
      ]
     },
     "execution_count": 1,
     "metadata": {},
     "output_type": "execute_result"
    }
   ],
   "source": [
    "a = randn(1000000)"
   ]
  },
  {
   "cell_type": "markdown",
   "metadata": {},
   "source": [
    "## Introduction\n",
    "\n",
    "$$\n",
    "\\bar{x} = \\frac{1}{n}\\sum\\limits_{i=1}^{n} x_{i}\n",
    "$$"
   ]
  },
  {
   "cell_type": "code",
   "execution_count": null,
   "metadata": {},
   "outputs": [],
   "source": []
  }
 ],
 "metadata": {
  "kernelspec": {
   "display_name": "Julia 1.1.0",
   "language": "julia",
   "name": "julia-1.1"
  },
  "language_info": {
   "file_extension": ".jl",
   "mimetype": "application/julia",
   "name": "julia",
   "version": "1.1.0"
  }
 },
 "nbformat": 4,
 "nbformat_minor": 2
}
